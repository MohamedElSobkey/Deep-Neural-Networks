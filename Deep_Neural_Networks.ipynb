{
  "nbformat": 4,
  "nbformat_minor": 0,
  "metadata": {
    "colab": {
      "private_outputs": true,
      "provenance": [],
      "authorship_tag": "ABX9TyMWgafpYmZLD/uHjG1A3YcR",
      "include_colab_link": true
    },
    "kernelspec": {
      "name": "python3",
      "display_name": "Python 3"
    },
    "language_info": {
      "name": "python"
    }
  },
  "cells": [
    {
      "cell_type": "markdown",
      "metadata": {
        "id": "view-in-github",
        "colab_type": "text"
      },
      "source": [
        "<a href=\"https://colab.research.google.com/github/MohamedElSobkey/Deep-Neural-Networks/blob/main/Deep_Neural_Networks.ipynb\" target=\"_parent\"><img src=\"https://colab.research.google.com/assets/colab-badge.svg\" alt=\"Open In Colab\"/></a>"
      ]
    },
    {
      "cell_type": "code",
      "execution_count": null,
      "metadata": {
        "id": "BboqAVJ4h85G"
      },
      "outputs": [],
      "source": [
        "import pandas as pd\n",
        "import matplotlib.pyplot as plt\n",
        "%matplotlib inline\n",
        "import numpy as np"
      ]
    },
    {
      "cell_type": "code",
      "source": [
        "data = pd.read_csv('/content/Airline_Delay_Cause.csv')"
      ],
      "metadata": {
        "id": "ICgsVLbOkK-a"
      },
      "execution_count": null,
      "outputs": []
    },
    {
      "cell_type": "code",
      "source": [
        "data"
      ],
      "metadata": {
        "id": "Fsmz3lk9kNkW"
      },
      "execution_count": null,
      "outputs": []
    },
    {
      "cell_type": "code",
      "source": [
        "data.info()"
      ],
      "metadata": {
        "id": "d4F2eL2OkTje"
      },
      "execution_count": null,
      "outputs": []
    },
    {
      "cell_type": "code",
      "source": [
        "data = data.drop(['carrier','carrier_name','airport','airport_name'],axis=1)\n",
        "data"
      ],
      "metadata": {
        "id": "T3U-Wgq7kcnO"
      },
      "execution_count": null,
      "outputs": []
    },
    {
      "cell_type": "code",
      "source": [
        "data.dropna(inplace=True)"
      ],
      "metadata": {
        "id": "u8gBvKGTkzun"
      },
      "execution_count": null,
      "outputs": []
    },
    {
      "cell_type": "code",
      "source": [
        "data.info()"
      ],
      "metadata": {
        "id": "wrtlDtLFlKoQ"
      },
      "execution_count": null,
      "outputs": []
    },
    {
      "cell_type": "code",
      "source": [
        "data['weather_delay'].min(),data['weather_delay'].max()"
      ],
      "metadata": {
        "id": "mODmRk02laOd"
      },
      "execution_count": null,
      "outputs": []
    },
    {
      "cell_type": "code",
      "source": [
        "#creating new column if the value more than 100 it will be 1 else it will be 0\n",
        "data['WDCase'] = data['weather_delay'].apply(lambda x : 1 if x >100 else 0)"
      ],
      "metadata": {
        "id": "6MmkoWysleKf"
      },
      "execution_count": null,
      "outputs": []
    },
    {
      "cell_type": "code",
      "source": [
        "data['WDCase'].value_counts()"
      ],
      "metadata": {
        "id": "_tj0r4epmjSB"
      },
      "execution_count": null,
      "outputs": []
    },
    {
      "cell_type": "code",
      "source": [
        "data"
      ],
      "metadata": {
        "id": "n8yXqm5Kmu6b"
      },
      "execution_count": null,
      "outputs": []
    },
    {
      "cell_type": "code",
      "source": [
        "X = data.drop(['WDCase'],axis = 1)\n",
        "y =data['WDCase']\n"
      ],
      "metadata": {
        "id": "oKvguVdanImF"
      },
      "execution_count": null,
      "outputs": []
    },
    {
      "cell_type": "code",
      "source": [
        "X"
      ],
      "metadata": {
        "id": "zIk8t2bynTkT"
      },
      "execution_count": null,
      "outputs": []
    },
    {
      "cell_type": "code",
      "source": [
        "y"
      ],
      "metadata": {
        "id": "9SJ8k0oRnVpK"
      },
      "execution_count": null,
      "outputs": []
    },
    {
      "cell_type": "code",
      "source": [
        "from sklearn.model_selection import train_test_split\n",
        "\n",
        "X_train, X_test, y_train, y_test = train_test_split(X, y, test_size=0.25, random_state=44, shuffle =True)\n",
        "\n",
        "print('X_train shape is ' , X_train.shape)\n",
        "print('X_test shape is ' , X_test.shape)\n",
        "print('y_train shape is ' , y_train.shape)\n",
        "print('y_test shape is ' , y_test.shape)"
      ],
      "metadata": {
        "id": "fHN9zmyFnslG"
      },
      "execution_count": null,
      "outputs": []
    },
    {
      "cell_type": "code",
      "source": [
        "import tensorflow as tf\n",
        "import keras"
      ],
      "metadata": {
        "id": "Ha7_rl-RnvEk"
      },
      "execution_count": null,
      "outputs": []
    },
    {
      "cell_type": "code",
      "source": [
        "KerasModel = keras.models.Sequential([\n",
        "                # keras.layers.Input(shape=(17)),\n",
        "            keras.layers.Dense(8,  activation = 'tanh'),\n",
        "            # keras.layers.Dropout(0.1),\n",
        "            keras.layers.Dense(128, activation = 'sigmoid'),\n",
        "            # keras.layers.Dropout(0.3),\n",
        "            keras.layers.Dense(64, activation = 'tanh'),\n",
        "            keras.layers.Dense(32, activation = 'tanh'),\n",
        "            keras.layers.Dropout(0.2),\n",
        "            keras.layers.Dense(1, activation = 'sigmoid')\n",
        "            ])"
      ],
      "metadata": {
        "id": "fwLiaswfn6Z-"
      },
      "execution_count": null,
      "outputs": []
    },
    {
      "cell_type": "code",
      "source": [
        "2,4,8,16,32,64,128,256,512 # prefered numbers of neurons to get high acc"
      ],
      "metadata": {
        "id": "n-Dogsxgn_pE"
      },
      "execution_count": null,
      "outputs": []
    },
    {
      "cell_type": "code",
      "source": [
        "MyOptimizer = tf.keras.optimizers.experimental.AdamW(\n",
        "    learning_rate=0.001,\n",
        "    weight_decay=0.004,\n",
        "    beta_1=0.9,\n",
        "    beta_2=0.999,\n",
        "    epsilon=1e-07,\n",
        "    amsgrad=False,\n",
        "    clipnorm=None,\n",
        "    clipvalue=None,\n",
        "    global_clipnorm=None,\n",
        "    use_ema=False,\n",
        "    ema_momentum=0.99,\n",
        "    ema_overwrite_frequency=None,\n",
        "    jit_compile=True,\n",
        "    name=\"AdamW\")"
      ],
      "metadata": {
        "id": "cFr023Y9oEyj"
      },
      "execution_count": null,
      "outputs": []
    },
    {
      "cell_type": "code",
      "source": [
        "KerasModel.compile(optimizer =MyOptimizer,loss='binary_crossentropy',metrics=['accuracy'])"
      ],
      "metadata": {
        "id": "VvSjYEs9oH1i"
      },
      "execution_count": null,
      "outputs": []
    },
    {
      "cell_type": "code",
      "source": [
        "history = KerasModel.fit(X_train,y_train,\n",
        "                         validation_data=(X_test,y_test),\n",
        "                         epochs=100,\n",
        "                         batch_size=10000,\n",
        "                         verbose=1, # for show the result\n",
        "                         callbacks=[tf.keras.callbacks.EarlyStopping( # early stopping\n",
        "                                            patience=10, # wait for 10 epoch\n",
        "                                            monitor='val_accuracy',#\"val_loss\",\n",
        "                                            restore_best_weights=True)])"
      ],
      "metadata": {
        "id": "eyaFbrDyoIlC"
      },
      "execution_count": null,
      "outputs": []
    },
    {
      "cell_type": "code",
      "source": [
        "print(KerasModel.summary())"
      ],
      "metadata": {
        "id": "1EqGCOF0oLmW"
      },
      "execution_count": null,
      "outputs": []
    },
    {
      "cell_type": "code",
      "source": [
        "KerasModel.save('KerasModel.model')"
      ],
      "metadata": {
        "id": "2hNcPPc4oOgg"
      },
      "execution_count": null,
      "outputs": []
    },
    {
      "cell_type": "code",
      "source": [
        "NewKerasModel = keras.models.load_model('KerasModel.model')"
      ],
      "metadata": {
        "id": "o2HBEiD4oRD-"
      },
      "execution_count": null,
      "outputs": []
    },
    {
      "cell_type": "code",
      "source": [
        "X_test"
      ],
      "metadata": {
        "id": "gbyXNwhtoTe3"
      },
      "execution_count": null,
      "outputs": []
    },
    {
      "cell_type": "code",
      "source": [
        "y_pred = NewKerasModel.predict(X_test)"
      ],
      "metadata": {
        "id": "_8s0KhBvoVqH"
      },
      "execution_count": null,
      "outputs": []
    },
    {
      "cell_type": "code",
      "source": [
        "print('Prediction Shape is {}'.format(y_pred.shape))"
      ],
      "metadata": {
        "id": "7Aex9tBLoX6E"
      },
      "execution_count": null,
      "outputs": []
    },
    {
      "cell_type": "code",
      "source": [
        "print('Prediction items are {}'.format(y_pred[:5]))"
      ],
      "metadata": {
        "id": "Zggy-fcJoaso"
      },
      "execution_count": null,
      "outputs": []
    },
    {
      "cell_type": "code",
      "source": [
        "y_test[:5]"
      ],
      "metadata": {
        "id": "m1U1aDx1odMe"
      },
      "execution_count": null,
      "outputs": []
    },
    {
      "cell_type": "code",
      "source": [
        "ModelLoss, ModelAccuracy = NewKerasModel.evaluate(X_test, y_test)\n",
        "print('Model Loss is {}'.format(ModelLoss))\n",
        "print('Model Accuracy is {}'.format(ModelAccuracy ))"
      ],
      "metadata": {
        "id": "8mL3BwsIof8o"
      },
      "execution_count": null,
      "outputs": []
    },
    {
      "cell_type": "code",
      "source": [
        "plt.plot(history.history['accuracy'])\n",
        "plt.plot(history.history['val_accuracy'])\n",
        "plt.title('model accuracy')\n",
        "plt.ylabel('accuracy')\n",
        "plt.xlabel('epoch')\n",
        "plt.legend(['train', 'validation'], loc='upper left')\n",
        "plt.show()"
      ],
      "metadata": {
        "id": "s1Jt3hcXoiY8"
      },
      "execution_count": null,
      "outputs": []
    },
    {
      "cell_type": "code",
      "source": [
        "# \"Loss\"\n",
        "plt.plot(history.history['loss'])\n",
        "plt.plot(history.history['val_loss'])\n",
        "plt.title('model loss')\n",
        "plt.ylabel('loss')\n",
        "plt.xlabel('epoch')\n",
        "plt.legend(['train', 'validation'], loc='upper left')\n",
        "plt.show()"
      ],
      "metadata": {
        "id": "XRbuq647olBr"
      },
      "execution_count": null,
      "outputs": []
    },
    {
      "cell_type": "code",
      "source": [
        "\n",
        "len(y_test), len(y_pred)"
      ],
      "metadata": {
        "id": "TF47dKCronoC"
      },
      "execution_count": null,
      "outputs": []
    },
    {
      "cell_type": "code",
      "source": [
        "y_pred\n"
      ],
      "metadata": {
        "id": "Ow9Okn9yoqJE"
      },
      "execution_count": null,
      "outputs": []
    },
    {
      "cell_type": "code",
      "source": [
        "y_pred = [np.round(i[0]) for i in y_pred]\n",
        "y_pred"
      ],
      "metadata": {
        "id": "N7Ivx4d9xscp"
      },
      "execution_count": null,
      "outputs": []
    },
    {
      "cell_type": "code",
      "source": [
        "from sklearn.metrics import confusion_matrix\n",
        "import seaborn as sns\n",
        "import matplotlib.pyplot as plt\n",
        "CM = confusion_matrix(y_test, y_pred)\n",
        "print('Confusion Matrix is : \\n', CM)"
      ],
      "metadata": {
        "id": "bTiHRA4fx4_9"
      },
      "execution_count": null,
      "outputs": []
    },
    {
      "cell_type": "code",
      "source": [
        "# drawing confusion matrix\n",
        "sns.heatmap(CM, center = True,cmap='Blues_r')\n",
        "plt.show()"
      ],
      "metadata": {
        "id": "nDZ3FVnLyE4A"
      },
      "execution_count": null,
      "outputs": []
    },
    {
      "cell_type": "code",
      "source": [
        "from sklearn.metrics import classification_report\n",
        "ClassificationReport = classification_report(y_test,y_pred)\n",
        "print('Classification Report is : \\n', ClassificationReport )"
      ],
      "metadata": {
        "id": "2qPJ6vx0yH51"
      },
      "execution_count": null,
      "outputs": []
    }
  ]
}